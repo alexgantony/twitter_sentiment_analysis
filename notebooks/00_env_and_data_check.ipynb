{
 "cells": [
  {
   "cell_type": "markdown",
   "id": "95511fda",
   "metadata": {},
   "source": [
    "# 00 - Environment & Data Check\n",
    "\n",
    "The main purpose of this notebook is to do a **sanity check** for the project setup. \n",
    "Goals:\n",
    "- Verify Python environment and versions of key packages.\n",
    "- Confirm raw data files exist in the expected directories. \n",
    "- Load and inspect a sample of data into DataFrame. \n",
    "- Explore and inspect dataset structure (columns, dtypes, nulls, label values).\n",
    "- Create a smaller dataset with 500 rows and save them for rapid prototyping.\n",
    "- Check the sample is representative of the full dataset.\n",
    "- Centralize configuration (paths, random seed) to establish **reproducibility**\n",
    "\n",
    "\n",
    "*Note:* This notebook is not a full data audit or data cleaning step. The goal here is to ensure the enivronment is reproducible and the  familiar with the data and the raw data is accessible and structured before deeper data analysis."
   ]
  },
  {
   "cell_type": "markdown",
   "id": "82eef70d",
   "metadata": {},
   "source": [
    "## Required Packages Imports\n",
    "Import core libraries and load constants from package config.\n",
    "The config centralizes path, seed valuees, and settings for reproducibility. "
   ]
  },
  {
   "cell_type": "code",
   "execution_count": 1,
   "id": "1a95595d",
   "metadata": {},
   "outputs": [],
   "source": [
    "import sys\n",
    "\n",
    "import numpy as np\n",
    "import pandas as pd\n",
    "import matplotlib\n",
    "import matplotlib.pyplot as plt\n",
    "import seaborn as sns\n",
    "import sklearn\n",
    "\n",
    "from twitter_sentiment import data_audit\n",
    "from twitter_sentiment import TRAIN_FILE, VAL_FILE, SEED, SAMPLE_FILE"
   ]
  },
  {
   "cell_type": "markdown",
   "id": "1631f081",
   "metadata": {},
   "source": [
    "## Environment & Package Versions\n",
    "Print versions of Python and key libraries to ensure reproducibility."
   ]
  },
  {
   "cell_type": "code",
   "execution_count": 3,
   "id": "464aeac3",
   "metadata": {},
   "outputs": [
    {
     "name": "stdout",
     "output_type": "stream",
     "text": [
      "Python: 3.13.2 (tags/v3.13.2:4f8bb39, Feb  4 2025, 15:23:48) [MSC v.1942 64 bit (AMD64)]\n",
      "NumPy: 2.3.2\n",
      "Pandas: 2.3.2\n",
      "Matplotlib: 3.10.6\n",
      "Seaborn: 0.13.2\n",
      "Sklearn: 1.7.1\n"
     ]
    }
   ],
   "source": [
    "print(\"Python:\", sys.version)\n",
    "print(\"NumPy:\", np.__version__)\n",
    "print(\"Pandas:\", pd.__version__)\n",
    "print(\"Matplotlib:\", matplotlib.__version__)\n",
    "print(\"Seaborn:\", sns.__version__)\n",
    "print(\"Sklearn:\", sklearn.__version__)"
   ]
  },
  {
   "cell_type": "markdown",
   "id": "7353b7a2",
   "metadata": {},
   "source": [
    "## Dataset Availability Check\n",
    "Check that the raw csv data files exist at the expected directories. "
   ]
  },
  {
   "cell_type": "code",
   "execution_count": 4,
   "id": "dab837d6",
   "metadata": {},
   "outputs": [
    {
     "name": "stdout",
     "output_type": "stream",
     "text": [
      "[OK] twitter_training.csv found at d:\\Projects\\twitter_sentiment_analysis\\data\\raw\\twitter_training.csv\n",
      "[OK] twitter_validation.csv found at d:\\Projects\\twitter_sentiment_analysis\\data\\raw\\twitter_validation.csv\n"
     ]
    }
   ],
   "source": [
    "for file in [TRAIN_FILE, VAL_FILE]:\n",
    "    if file.exists():\n",
    "         print(f\"[OK] {file.name} found at {file}\")\n",
    "    else:\n",
    "        print(f\"[MISSING] {file} not found!\")\n"
   ]
  },
  {
   "cell_type": "markdown",
   "id": "dec3e6a5",
   "metadata": {},
   "source": [
    "## Sanity Check on Sample Data\n",
    "Load a sample subset of the dataset to verify:\n",
    "- Column headers\n",
    "- Data types\n",
    "- Null values\n",
    "- Duplicate values\n",
    "- Value distribution in columns - \"sentiment_label\", \"entity\""
   ]
  },
  {
   "cell_type": "code",
   "execution_count": 5,
   "id": "bd786b86",
   "metadata": {},
   "outputs": [
    {
     "data": {
      "text/html": [
       "<div>\n",
       "<style scoped>\n",
       "    .dataframe tbody tr th:only-of-type {\n",
       "        vertical-align: middle;\n",
       "    }\n",
       "\n",
       "    .dataframe tbody tr th {\n",
       "        vertical-align: top;\n",
       "    }\n",
       "\n",
       "    .dataframe thead th {\n",
       "        text-align: right;\n",
       "    }\n",
       "</style>\n",
       "<table border=\"1\" class=\"dataframe\">\n",
       "  <thead>\n",
       "    <tr style=\"text-align: right;\">\n",
       "      <th></th>\n",
       "      <th>id</th>\n",
       "      <th>entity</th>\n",
       "      <th>sentiment_label</th>\n",
       "      <th>tweet_content</th>\n",
       "    </tr>\n",
       "  </thead>\n",
       "  <tbody>\n",
       "    <tr>\n",
       "      <th>0</th>\n",
       "      <td>3364</td>\n",
       "      <td>Facebook</td>\n",
       "      <td>Irrelevant</td>\n",
       "      <td>I mentioned on Facebook that I was struggling ...</td>\n",
       "    </tr>\n",
       "    <tr>\n",
       "      <th>1</th>\n",
       "      <td>352</td>\n",
       "      <td>Amazon</td>\n",
       "      <td>Neutral</td>\n",
       "      <td>BBC News - Amazon boss Jeff Bezos rejects clai...</td>\n",
       "    </tr>\n",
       "    <tr>\n",
       "      <th>2</th>\n",
       "      <td>8312</td>\n",
       "      <td>Microsoft</td>\n",
       "      <td>Negative</td>\n",
       "      <td>@Microsoft Why do I pay for WORD when it funct...</td>\n",
       "    </tr>\n",
       "    <tr>\n",
       "      <th>3</th>\n",
       "      <td>4371</td>\n",
       "      <td>CS-GO</td>\n",
       "      <td>Negative</td>\n",
       "      <td>CSGO matchmaking is so full of closet hacking,...</td>\n",
       "    </tr>\n",
       "    <tr>\n",
       "      <th>4</th>\n",
       "      <td>4433</td>\n",
       "      <td>Google</td>\n",
       "      <td>Neutral</td>\n",
       "      <td>Now the President is slapping Americans in the...</td>\n",
       "    </tr>\n",
       "  </tbody>\n",
       "</table>\n",
       "</div>"
      ],
      "text/plain": [
       "     id     entity sentiment_label  \\\n",
       "0  3364   Facebook      Irrelevant   \n",
       "1   352     Amazon         Neutral   \n",
       "2  8312  Microsoft        Negative   \n",
       "3  4371      CS-GO        Negative   \n",
       "4  4433     Google         Neutral   \n",
       "\n",
       "                                       tweet_content  \n",
       "0  I mentioned on Facebook that I was struggling ...  \n",
       "1  BBC News - Amazon boss Jeff Bezos rejects clai...  \n",
       "2  @Microsoft Why do I pay for WORD when it funct...  \n",
       "3  CSGO matchmaking is so full of closet hacking,...  \n",
       "4  Now the President is slapping Americans in the...  "
      ]
     },
     "execution_count": 5,
     "metadata": {},
     "output_type": "execute_result"
    }
   ],
   "source": [
    "col_names =  [\"id\", \"entity\", \"sentiment_label\", \"tweet_content\"]\n",
    "\n",
    "train_sample_df = pd.read_csv(TRAIN_FILE, names=col_names, nrows=100)\n",
    "val_sample_df = pd.read_csv(VAL_FILE, names=col_names,nrows=100)\n",
    "\n",
    "val_sample_df.head()"
   ]
  },
  {
   "cell_type": "code",
   "execution_count": 6,
   "id": "c03ea413",
   "metadata": {},
   "outputs": [
    {
     "name": "stdout",
     "output_type": "stream",
     "text": [
      "<class 'pandas.core.frame.DataFrame'>\n",
      "RangeIndex: 100 entries, 0 to 99\n",
      "Data columns (total 4 columns):\n",
      " #   Column           Non-Null Count  Dtype \n",
      "---  ------           --------------  ----- \n",
      " 0   id               100 non-null    int64 \n",
      " 1   entity           100 non-null    object\n",
      " 2   sentiment_label  100 non-null    object\n",
      " 3   tweet_content    99 non-null     object\n",
      "dtypes: int64(1), object(3)\n",
      "memory usage: 3.3+ KB\n"
     ]
    }
   ],
   "source": [
    "train_sample_df.info()"
   ]
  },
  {
   "cell_type": "code",
   "execution_count": null,
   "id": "8c1b2345",
   "metadata": {},
   "outputs": [],
   "source": []
  },
  {
   "cell_type": "markdown",
   "id": "21527af6",
   "metadata": {},
   "source": [
    "Smoke check: Checking for null values. Just observing here; the decision to whether drop/keep/normalize will be one in Notebook 01."
   ]
  },
  {
   "cell_type": "code",
   "execution_count": 8,
   "id": "d6eefb8c",
   "metadata": {},
   "outputs": [
    {
     "name": "stdout",
     "output_type": "stream",
     "text": [
      "Checking for duplicates...\n",
      "Total duplicates: 4\n",
      "**************************************************\n",
      "Checking for missing values...\n",
      "id                 0\n",
      "entity             0\n",
      "sentiment_label    0\n",
      "tweet_content      1\n",
      "dtype: int64\n",
      "**************************************************\n",
      "Checking for value counts in column \"sentiment_label\"...\n",
      "sentiment_label\n",
      "Positive    42\n",
      "Neutral     36\n",
      "Negative    22\n",
      "Name: count, dtype: int64\n",
      "**************************************************\n",
      "Checking for value counts in column \"entity\"...\n",
      "entity\n",
      "Borderlands    100\n",
      "Name: count, dtype: int64\n",
      "**************************************************\n"
     ]
    }
   ],
   "source": [
    "data_audit(train_sample_df)"
   ]
  },
  {
   "cell_type": "code",
   "execution_count": 9,
   "id": "09b34497",
   "metadata": {},
   "outputs": [
    {
     "name": "stdout",
     "output_type": "stream",
     "text": [
      "Checking for duplicates...\n",
      "Total duplicates: 0\n",
      "**************************************************\n",
      "Checking for missing values...\n",
      "id                 0\n",
      "entity             0\n",
      "sentiment_label    0\n",
      "tweet_content      0\n",
      "dtype: int64\n",
      "**************************************************\n",
      "Checking for value counts in column \"sentiment_label\"...\n",
      "sentiment_label\n",
      "Negative      32\n",
      "Positive      31\n",
      "Neutral       24\n",
      "Irrelevant    13\n",
      "Name: count, dtype: int64\n",
      "**************************************************\n",
      "Checking for value counts in column \"entity\"...\n",
      "entity\n",
      "CallOfDuty                           11\n",
      "AssassinsCreed                        6\n",
      "CS-GO                                 5\n",
      "Microsoft                             5\n",
      "TomClancysRainbowSix                  5\n",
      "Overwatch                             5\n",
      "Nvidia                                4\n",
      "Verizon                               4\n",
      "johnson&johnson                       4\n",
      "PlayerUnknownsBattlegrounds(PUBG)     4\n",
      "Hearthstone                           4\n",
      "Facebook                              4\n",
      "NBA2K                                 3\n",
      "Amazon                                3\n",
      "FIFA                                  3\n",
      "PlayStation5(PS5)                     3\n",
      "CallOfDutyBlackopsColdWar             3\n",
      "RedDeadRedemption(RDR)                2\n",
      "Dota2                                 2\n",
      "MaddenNFL                             2\n",
      "Google                                2\n",
      "GrandTheftAuto(GTA)                   2\n",
      "Xbox(Xseries)                         2\n",
      "ApexLegends                           2\n",
      "Cyberpunk2077                         2\n",
      "TomClancysGhostRecon                  2\n",
      "Fortnite                              1\n",
      "Borderlands                           1\n",
      "HomeDepot                             1\n",
      "WorldOfCraft                          1\n",
      "LeagueOfLegends                       1\n",
      "Battlefield                           1\n",
      "Name: count, dtype: int64\n",
      "**************************************************\n"
     ]
    }
   ],
   "source": [
    "data_audit(val_sample_df)"
   ]
  },
  {
   "cell_type": "code",
   "execution_count": 28,
   "id": "116081ea",
   "metadata": {},
   "outputs": [],
   "source": [
    "train_df = pd.read_csv(TRAIN_FILE, header=None, names=col_names)\n",
    "val_df = pd.read_csv(VAL_FILE, header=None, names=col_names)"
   ]
  },
  {
   "cell_type": "code",
   "execution_count": 29,
   "id": "25639536",
   "metadata": {},
   "outputs": [],
   "source": [
    "train_df[\"split\"] = \"train\""
   ]
  },
  {
   "cell_type": "code",
   "execution_count": 30,
   "id": "4ba8d005",
   "metadata": {},
   "outputs": [
    {
     "name": "stdout",
     "output_type": "stream",
     "text": [
      "<class 'pandas.core.frame.DataFrame'>\n",
      "RangeIndex: 74682 entries, 0 to 74681\n",
      "Data columns (total 5 columns):\n",
      " #   Column           Non-Null Count  Dtype \n",
      "---  ------           --------------  ----- \n",
      " 0   id               74682 non-null  int64 \n",
      " 1   entity           74682 non-null  object\n",
      " 2   sentiment_label  74682 non-null  object\n",
      " 3   tweet_content    73996 non-null  object\n",
      " 4   split            74682 non-null  object\n",
      "dtypes: int64(1), object(4)\n",
      "memory usage: 2.8+ MB\n"
     ]
    }
   ],
   "source": [
    "train_df.info()"
   ]
  },
  {
   "cell_type": "code",
   "execution_count": 31,
   "id": "d621e835",
   "metadata": {},
   "outputs": [
    {
     "data": {
      "text/html": [
       "<div>\n",
       "<style scoped>\n",
       "    .dataframe tbody tr th:only-of-type {\n",
       "        vertical-align: middle;\n",
       "    }\n",
       "\n",
       "    .dataframe tbody tr th {\n",
       "        vertical-align: top;\n",
       "    }\n",
       "\n",
       "    .dataframe thead th {\n",
       "        text-align: right;\n",
       "    }\n",
       "</style>\n",
       "<table border=\"1\" class=\"dataframe\">\n",
       "  <thead>\n",
       "    <tr style=\"text-align: right;\">\n",
       "      <th></th>\n",
       "      <th>id</th>\n",
       "      <th>entity</th>\n",
       "      <th>sentiment_label</th>\n",
       "      <th>tweet_content</th>\n",
       "      <th>split</th>\n",
       "    </tr>\n",
       "  </thead>\n",
       "  <tbody>\n",
       "    <tr>\n",
       "      <th>0</th>\n",
       "      <td>2401</td>\n",
       "      <td>Borderlands</td>\n",
       "      <td>Positive</td>\n",
       "      <td>im getting on borderlands and i will murder yo...</td>\n",
       "      <td>train</td>\n",
       "    </tr>\n",
       "    <tr>\n",
       "      <th>1</th>\n",
       "      <td>2401</td>\n",
       "      <td>Borderlands</td>\n",
       "      <td>Positive</td>\n",
       "      <td>I am coming to the borders and I will kill you...</td>\n",
       "      <td>train</td>\n",
       "    </tr>\n",
       "    <tr>\n",
       "      <th>2</th>\n",
       "      <td>2401</td>\n",
       "      <td>Borderlands</td>\n",
       "      <td>Positive</td>\n",
       "      <td>im getting on borderlands and i will kill you ...</td>\n",
       "      <td>train</td>\n",
       "    </tr>\n",
       "    <tr>\n",
       "      <th>3</th>\n",
       "      <td>2401</td>\n",
       "      <td>Borderlands</td>\n",
       "      <td>Positive</td>\n",
       "      <td>im coming on borderlands and i will murder you...</td>\n",
       "      <td>train</td>\n",
       "    </tr>\n",
       "    <tr>\n",
       "      <th>4</th>\n",
       "      <td>2401</td>\n",
       "      <td>Borderlands</td>\n",
       "      <td>Positive</td>\n",
       "      <td>im getting on borderlands 2 and i will murder ...</td>\n",
       "      <td>train</td>\n",
       "    </tr>\n",
       "  </tbody>\n",
       "</table>\n",
       "</div>"
      ],
      "text/plain": [
       "     id       entity sentiment_label  \\\n",
       "0  2401  Borderlands        Positive   \n",
       "1  2401  Borderlands        Positive   \n",
       "2  2401  Borderlands        Positive   \n",
       "3  2401  Borderlands        Positive   \n",
       "4  2401  Borderlands        Positive   \n",
       "\n",
       "                                       tweet_content  split  \n",
       "0  im getting on borderlands and i will murder yo...  train  \n",
       "1  I am coming to the borders and I will kill you...  train  \n",
       "2  im getting on borderlands and i will kill you ...  train  \n",
       "3  im coming on borderlands and i will murder you...  train  \n",
       "4  im getting on borderlands 2 and i will murder ...  train  "
      ]
     },
     "execution_count": 31,
     "metadata": {},
     "output_type": "execute_result"
    }
   ],
   "source": [
    "train_df.head()"
   ]
  },
  {
   "cell_type": "code",
   "execution_count": 32,
   "id": "a6f39d53",
   "metadata": {},
   "outputs": [],
   "source": [
    "val_df[\"split\"] = \"val\""
   ]
  },
  {
   "cell_type": "code",
   "execution_count": 33,
   "id": "12e98837",
   "metadata": {},
   "outputs": [
    {
     "data": {
      "text/html": [
       "<div>\n",
       "<style scoped>\n",
       "    .dataframe tbody tr th:only-of-type {\n",
       "        vertical-align: middle;\n",
       "    }\n",
       "\n",
       "    .dataframe tbody tr th {\n",
       "        vertical-align: top;\n",
       "    }\n",
       "\n",
       "    .dataframe thead th {\n",
       "        text-align: right;\n",
       "    }\n",
       "</style>\n",
       "<table border=\"1\" class=\"dataframe\">\n",
       "  <thead>\n",
       "    <tr style=\"text-align: right;\">\n",
       "      <th></th>\n",
       "      <th>id</th>\n",
       "      <th>entity</th>\n",
       "      <th>sentiment_label</th>\n",
       "      <th>tweet_content</th>\n",
       "      <th>split</th>\n",
       "    </tr>\n",
       "  </thead>\n",
       "  <tbody>\n",
       "    <tr>\n",
       "      <th>0</th>\n",
       "      <td>3364</td>\n",
       "      <td>Facebook</td>\n",
       "      <td>Irrelevant</td>\n",
       "      <td>I mentioned on Facebook that I was struggling ...</td>\n",
       "      <td>val</td>\n",
       "    </tr>\n",
       "    <tr>\n",
       "      <th>1</th>\n",
       "      <td>352</td>\n",
       "      <td>Amazon</td>\n",
       "      <td>Neutral</td>\n",
       "      <td>BBC News - Amazon boss Jeff Bezos rejects clai...</td>\n",
       "      <td>val</td>\n",
       "    </tr>\n",
       "    <tr>\n",
       "      <th>2</th>\n",
       "      <td>8312</td>\n",
       "      <td>Microsoft</td>\n",
       "      <td>Negative</td>\n",
       "      <td>@Microsoft Why do I pay for WORD when it funct...</td>\n",
       "      <td>val</td>\n",
       "    </tr>\n",
       "    <tr>\n",
       "      <th>3</th>\n",
       "      <td>4371</td>\n",
       "      <td>CS-GO</td>\n",
       "      <td>Negative</td>\n",
       "      <td>CSGO matchmaking is so full of closet hacking,...</td>\n",
       "      <td>val</td>\n",
       "    </tr>\n",
       "    <tr>\n",
       "      <th>4</th>\n",
       "      <td>4433</td>\n",
       "      <td>Google</td>\n",
       "      <td>Neutral</td>\n",
       "      <td>Now the President is slapping Americans in the...</td>\n",
       "      <td>val</td>\n",
       "    </tr>\n",
       "  </tbody>\n",
       "</table>\n",
       "</div>"
      ],
      "text/plain": [
       "     id     entity sentiment_label  \\\n",
       "0  3364   Facebook      Irrelevant   \n",
       "1   352     Amazon         Neutral   \n",
       "2  8312  Microsoft        Negative   \n",
       "3  4371      CS-GO        Negative   \n",
       "4  4433     Google         Neutral   \n",
       "\n",
       "                                       tweet_content split  \n",
       "0  I mentioned on Facebook that I was struggling ...   val  \n",
       "1  BBC News - Amazon boss Jeff Bezos rejects clai...   val  \n",
       "2  @Microsoft Why do I pay for WORD when it funct...   val  \n",
       "3  CSGO matchmaking is so full of closet hacking,...   val  \n",
       "4  Now the President is slapping Americans in the...   val  "
      ]
     },
     "execution_count": 33,
     "metadata": {},
     "output_type": "execute_result"
    }
   ],
   "source": [
    "val_df.head()"
   ]
  },
  {
   "cell_type": "markdown",
   "id": "722b349e",
   "metadata": {},
   "source": [
    "## Sample Creation and Distribution Comparison\n",
    "\n",
    "Combine train + validation data, then draw a random sample of 500 rows and save them in a DataFrame.\n",
    "This sample data will be used for fast prototyping in later notebooks. \n",
    "\n",
    "Verify representativeness of the values in \"sentiment_label\" column by comparing the distribution in the full dataset vs the 500 row sample. \n",
    "A group bar chart to verify the distribution. "
   ]
  },
  {
   "cell_type": "code",
   "execution_count": 16,
   "id": "31ea4c66",
   "metadata": {},
   "outputs": [
    {
     "name": "stdout",
     "output_type": "stream",
     "text": [
      "<class 'pandas.core.frame.DataFrame'>\n",
      "Index: 75682 entries, 0 to 999\n",
      "Data columns (total 5 columns):\n",
      " #   Column           Non-Null Count  Dtype \n",
      "---  ------           --------------  ----- \n",
      " 0   id               75682 non-null  int64 \n",
      " 1   entity           75682 non-null  object\n",
      " 2   sentiment_label  75682 non-null  object\n",
      " 3   tweet_content    74996 non-null  object\n",
      " 4   split            75682 non-null  object\n",
      "dtypes: int64(1), object(4)\n",
      "memory usage: 3.5+ MB\n"
     ]
    }
   ],
   "source": [
    "combined_df = pd.concat([train_df, val_df], axis=\"rows\")\n",
    "combined_df.info()"
   ]
  },
  {
   "cell_type": "code",
   "execution_count": 17,
   "id": "a48a8c78",
   "metadata": {},
   "outputs": [],
   "source": [
    "sample_500 = combined_df.sample(n=500, random_state=SEED)"
   ]
  },
  {
   "cell_type": "code",
   "execution_count": 18,
   "id": "b4546d61",
   "metadata": {},
   "outputs": [
    {
     "data": {
      "text/html": [
       "<div>\n",
       "<style scoped>\n",
       "    .dataframe tbody tr th:only-of-type {\n",
       "        vertical-align: middle;\n",
       "    }\n",
       "\n",
       "    .dataframe tbody tr th {\n",
       "        vertical-align: top;\n",
       "    }\n",
       "\n",
       "    .dataframe thead th {\n",
       "        text-align: right;\n",
       "    }\n",
       "</style>\n",
       "<table border=\"1\" class=\"dataframe\">\n",
       "  <thead>\n",
       "    <tr style=\"text-align: right;\">\n",
       "      <th></th>\n",
       "      <th>sentiment_label</th>\n",
       "      <th>proportion</th>\n",
       "      <th>dataset</th>\n",
       "    </tr>\n",
       "  </thead>\n",
       "  <tbody>\n",
       "    <tr>\n",
       "      <th>0</th>\n",
       "      <td>Negative</td>\n",
       "      <td>31.0</td>\n",
       "      <td>sample</td>\n",
       "    </tr>\n",
       "    <tr>\n",
       "      <th>1</th>\n",
       "      <td>Positive</td>\n",
       "      <td>26.0</td>\n",
       "      <td>sample</td>\n",
       "    </tr>\n",
       "    <tr>\n",
       "      <th>2</th>\n",
       "      <td>Neutral</td>\n",
       "      <td>22.6</td>\n",
       "      <td>sample</td>\n",
       "    </tr>\n",
       "    <tr>\n",
       "      <th>3</th>\n",
       "      <td>Irrelevant</td>\n",
       "      <td>20.4</td>\n",
       "      <td>sample</td>\n",
       "    </tr>\n",
       "  </tbody>\n",
       "</table>\n",
       "</div>"
      ],
      "text/plain": [
       "  sentiment_label  proportion dataset\n",
       "0        Negative        31.0  sample\n",
       "1        Positive        26.0  sample\n",
       "2         Neutral        22.6  sample\n",
       "3      Irrelevant        20.4  sample"
      ]
     },
     "execution_count": 18,
     "metadata": {},
     "output_type": "execute_result"
    }
   ],
   "source": [
    "sentiment_dist_sample = (\n",
    "    (sample_500[\"sentiment_label\"].value_counts() / sample_500.shape[0]) * 100) \\\n",
    "    .reset_index() \\\n",
    "    .rename(columns={\"count\": \"proportion\"})\n",
    "\n",
    "sentiment_dist_sample[\"dataset\"] = \"sample\"\n",
    "sentiment_dist_sample"
   ]
  },
  {
   "cell_type": "code",
   "execution_count": 19,
   "id": "534d969a",
   "metadata": {},
   "outputs": [
    {
     "data": {
      "text/html": [
       "<div>\n",
       "<style scoped>\n",
       "    .dataframe tbody tr th:only-of-type {\n",
       "        vertical-align: middle;\n",
       "    }\n",
       "\n",
       "    .dataframe tbody tr th {\n",
       "        vertical-align: top;\n",
       "    }\n",
       "\n",
       "    .dataframe thead th {\n",
       "        text-align: right;\n",
       "    }\n",
       "</style>\n",
       "<table border=\"1\" class=\"dataframe\">\n",
       "  <thead>\n",
       "    <tr style=\"text-align: right;\">\n",
       "      <th></th>\n",
       "      <th>sentiment_label</th>\n",
       "      <th>proportion</th>\n",
       "      <th>dataset</th>\n",
       "    </tr>\n",
       "  </thead>\n",
       "  <tbody>\n",
       "    <tr>\n",
       "      <th>0</th>\n",
       "      <td>Negative</td>\n",
       "      <td>30.136624</td>\n",
       "      <td>full</td>\n",
       "    </tr>\n",
       "    <tr>\n",
       "      <th>1</th>\n",
       "      <td>Positive</td>\n",
       "      <td>27.891705</td>\n",
       "      <td>full</td>\n",
       "    </tr>\n",
       "    <tr>\n",
       "      <th>2</th>\n",
       "      <td>Neutral</td>\n",
       "      <td>24.580481</td>\n",
       "      <td>full</td>\n",
       "    </tr>\n",
       "    <tr>\n",
       "      <th>3</th>\n",
       "      <td>Irrelevant</td>\n",
       "      <td>17.391189</td>\n",
       "      <td>full</td>\n",
       "    </tr>\n",
       "  </tbody>\n",
       "</table>\n",
       "</div>"
      ],
      "text/plain": [
       "  sentiment_label  proportion dataset\n",
       "0        Negative   30.136624    full\n",
       "1        Positive   27.891705    full\n",
       "2         Neutral   24.580481    full\n",
       "3      Irrelevant   17.391189    full"
      ]
     },
     "execution_count": 19,
     "metadata": {},
     "output_type": "execute_result"
    }
   ],
   "source": [
    "sentiment_dist_combined = (\n",
    "    (combined_df[\"sentiment_label\"].value_counts() / combined_df.shape[0]) * 100) \\\n",
    "    .reset_index() \\\n",
    "    .rename(columns={\"count\": \"proportion\"})\n",
    "\n",
    "sentiment_dist_combined[\"dataset\"] = \"full\"\n",
    "sentiment_dist_combined"
   ]
  },
  {
   "cell_type": "code",
   "execution_count": 20,
   "id": "9db951f7",
   "metadata": {},
   "outputs": [
    {
     "data": {
      "text/html": [
       "<div>\n",
       "<style scoped>\n",
       "    .dataframe tbody tr th:only-of-type {\n",
       "        vertical-align: middle;\n",
       "    }\n",
       "\n",
       "    .dataframe tbody tr th {\n",
       "        vertical-align: top;\n",
       "    }\n",
       "\n",
       "    .dataframe thead th {\n",
       "        text-align: right;\n",
       "    }\n",
       "</style>\n",
       "<table border=\"1\" class=\"dataframe\">\n",
       "  <thead>\n",
       "    <tr style=\"text-align: right;\">\n",
       "      <th></th>\n",
       "      <th>sentiment_label</th>\n",
       "      <th>proportion</th>\n",
       "      <th>dataset</th>\n",
       "    </tr>\n",
       "  </thead>\n",
       "  <tbody>\n",
       "    <tr>\n",
       "      <th>0</th>\n",
       "      <td>Negative</td>\n",
       "      <td>30.136624</td>\n",
       "      <td>full</td>\n",
       "    </tr>\n",
       "    <tr>\n",
       "      <th>1</th>\n",
       "      <td>Positive</td>\n",
       "      <td>27.891705</td>\n",
       "      <td>full</td>\n",
       "    </tr>\n",
       "    <tr>\n",
       "      <th>2</th>\n",
       "      <td>Neutral</td>\n",
       "      <td>24.580481</td>\n",
       "      <td>full</td>\n",
       "    </tr>\n",
       "    <tr>\n",
       "      <th>3</th>\n",
       "      <td>Irrelevant</td>\n",
       "      <td>17.391189</td>\n",
       "      <td>full</td>\n",
       "    </tr>\n",
       "    <tr>\n",
       "      <th>4</th>\n",
       "      <td>Negative</td>\n",
       "      <td>31.000000</td>\n",
       "      <td>sample</td>\n",
       "    </tr>\n",
       "    <tr>\n",
       "      <th>5</th>\n",
       "      <td>Positive</td>\n",
       "      <td>26.000000</td>\n",
       "      <td>sample</td>\n",
       "    </tr>\n",
       "    <tr>\n",
       "      <th>6</th>\n",
       "      <td>Neutral</td>\n",
       "      <td>22.600000</td>\n",
       "      <td>sample</td>\n",
       "    </tr>\n",
       "    <tr>\n",
       "      <th>7</th>\n",
       "      <td>Irrelevant</td>\n",
       "      <td>20.400000</td>\n",
       "      <td>sample</td>\n",
       "    </tr>\n",
       "  </tbody>\n",
       "</table>\n",
       "</div>"
      ],
      "text/plain": [
       "  sentiment_label  proportion dataset\n",
       "0        Negative   30.136624    full\n",
       "1        Positive   27.891705    full\n",
       "2         Neutral   24.580481    full\n",
       "3      Irrelevant   17.391189    full\n",
       "4        Negative   31.000000  sample\n",
       "5        Positive   26.000000  sample\n",
       "6         Neutral   22.600000  sample\n",
       "7      Irrelevant   20.400000  sample"
      ]
     },
     "execution_count": 20,
     "metadata": {},
     "output_type": "execute_result"
    }
   ],
   "source": [
    "proportion_df = pd.concat([sentiment_dist_combined, sentiment_dist_sample], axis=\"index\", ignore_index=True)\n",
    "proportion_df"
   ]
  },
  {
   "cell_type": "code",
   "execution_count": 24,
   "id": "8fbb1dbf",
   "metadata": {},
   "outputs": [],
   "source": [
    "sns.set_palette(palette='Set2')\n",
    "sns.set_style(\"whitegrid\")"
   ]
  },
  {
   "cell_type": "code",
   "execution_count": 25,
   "id": "3b1f4413",
   "metadata": {},
   "outputs": [
    {
     "data": {
      "image/png": "[encoded data removed]",
      "text/plain": [
       "<Figure size 640x480 with 1 Axes>"
      ]
     },
     "metadata": {},
     "output_type": "display_data"
    }
   ],
   "source": [
    "ax = sns.barplot(\n",
    "    proportion_df,\n",
    "    x=\"sentiment_label\",\n",
    "    y=\"proportion\",\n",
    "    hue=\"dataset\",\n",
    ")\n",
    "\n",
    "for container in ax.containers:\n",
    "     ax.bar_label(container, fmt=\"%.1f%%\")\n",
    "\n",
    "plt.title(\"Sentiment Distribution: Full Dataset vs 500-row Sample\")\n",
    "plt.xlabel(\"Sentiment Class\")\n",
    "plt.ylabel(\"Proportion (%)\")\n",
    "plt.show()"
   ]
  },
  {
   "cell_type": "code",
   "execution_count": 26,
   "id": "d31d2128",
   "metadata": {},
   "outputs": [],
   "source": [
    "sample_500.to_csv(SAMPLE_FILE, index=False, encoding=\"UTF-8\")"
   ]
  },
  {
   "cell_type": "markdown",
   "id": "33c93232",
   "metadata": {},
   "source": [
    "## Summary\n",
    "\n",
    "- Environment created and imports verified.\n",
    "- Library version verified for reproducibility.\n",
    "- Configuration centralized for reproducibility.\n",
    "- Confirmed raw file exists at the expected location.\n",
    "- Inspected dataset structure on small sample (100 rows)\n",
    "- Sample created and saved for fast prototyping for later use.\n",
    "- Sample's sentiment label distribution closely matches the full dataset. "
   ]
  }
 ],
 "metadata": {
  "kernelspec": {
   "display_name": "venv",
   "language": "python",
   "name": "python3"
  },
  "language_info": {
   "codemirror_mode": {
    "name": "ipython",
    "version": 3
   },
   "file_extension": ".py",
   "mimetype": "text/x-python",
   "name": "python",
   "nbconvert_exporter": "python",
   "pygments_lexer": "ipython3",
   "version": "3.13.2"
  }
 },
 "nbformat": 4,
 "nbformat_minor": 5
}
